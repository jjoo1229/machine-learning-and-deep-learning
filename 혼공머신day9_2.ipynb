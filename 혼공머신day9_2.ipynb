{
  "nbformat": 4,
  "nbformat_minor": 0,
  "metadata": {
    "colab": {
      "provenance": [],
      "gpuType": "T4",
      "authorship_tag": "ABX9TyOx4R9Wq+qDpgoOCgEgwtro",
      "include_colab_link": true
    },
    "kernelspec": {
      "name": "python3",
      "display_name": "Python 3"
    },
    "language_info": {
      "name": "python"
    },
    "accelerator": "GPU"
  },
  "cells": [
    {
      "cell_type": "markdown",
      "metadata": {
        "id": "view-in-github",
        "colab_type": "text"
      },
      "source": [
        "<a href=\"https://colab.research.google.com/github/jjoo1229/machine-learning-and-deep-learning/blob/main/%ED%98%BC%EA%B3%B5%EB%A8%B8%EC%8B%A0day9_2.ipynb\" target=\"_parent\"><img src=\"https://colab.research.google.com/assets/colab-badge.svg\" alt=\"Open In Colab\"/></a>"
      ]
    },
    {
      "cell_type": "code",
      "execution_count": 1,
      "metadata": {
        "colab": {
          "base_uri": "https://localhost:8080/"
        },
        "id": "gnApHTTDIPTP",
        "outputId": "4c18ef0c-c755-4be4-ebd2-49c9218c3151"
      },
      "outputs": [
        {
          "output_type": "stream",
          "name": "stdout",
          "text": [
            "(25000,) (25000,)\n"
          ]
        }
      ],
      "source": [
        "from tensorflow.keras.datasets import imdb\n",
        "(train_input, train_target), (test_input, test_target) = imdb.load_data(num_words=300)\n",
        "\n",
        "print(train_input.shape, train_target.shape)"
      ]
    },
    {
      "cell_type": "code",
      "source": [
        "train_input[0]"
      ],
      "metadata": {
        "colab": {
          "base_uri": "https://localhost:8080/"
        },
        "id": "By4c6_GDW4Ni",
        "outputId": "bf0fcc9b-481e-4dd8-9c0a-ba93dd692615"
      },
      "execution_count": 2,
      "outputs": [
        {
          "output_type": "execute_result",
          "data": {
            "text/plain": [
              "[1,\n",
              " 14,\n",
              " 22,\n",
              " 16,\n",
              " 43,\n",
              " 2,\n",
              " 2,\n",
              " 2,\n",
              " 2,\n",
              " 65,\n",
              " 2,\n",
              " 2,\n",
              " 66,\n",
              " 2,\n",
              " 4,\n",
              " 173,\n",
              " 36,\n",
              " 256,\n",
              " 5,\n",
              " 25,\n",
              " 100,\n",
              " 43,\n",
              " 2,\n",
              " 112,\n",
              " 50,\n",
              " 2,\n",
              " 2,\n",
              " 9,\n",
              " 35,\n",
              " 2,\n",
              " 284,\n",
              " 5,\n",
              " 150,\n",
              " 4,\n",
              " 172,\n",
              " 112,\n",
              " 167,\n",
              " 2,\n",
              " 2,\n",
              " 2,\n",
              " 39,\n",
              " 4,\n",
              " 172,\n",
              " 2,\n",
              " 2,\n",
              " 17,\n",
              " 2,\n",
              " 38,\n",
              " 13,\n",
              " 2,\n",
              " 4,\n",
              " 192,\n",
              " 50,\n",
              " 16,\n",
              " 6,\n",
              " 147,\n",
              " 2,\n",
              " 19,\n",
              " 14,\n",
              " 22,\n",
              " 4,\n",
              " 2,\n",
              " 2,\n",
              " 2,\n",
              " 4,\n",
              " 22,\n",
              " 71,\n",
              " 87,\n",
              " 12,\n",
              " 16,\n",
              " 43,\n",
              " 2,\n",
              " 38,\n",
              " 76,\n",
              " 15,\n",
              " 13,\n",
              " 2,\n",
              " 4,\n",
              " 22,\n",
              " 17,\n",
              " 2,\n",
              " 17,\n",
              " 12,\n",
              " 16,\n",
              " 2,\n",
              " 18,\n",
              " 2,\n",
              " 5,\n",
              " 62,\n",
              " 2,\n",
              " 12,\n",
              " 8,\n",
              " 2,\n",
              " 8,\n",
              " 106,\n",
              " 5,\n",
              " 4,\n",
              " 2,\n",
              " 2,\n",
              " 16,\n",
              " 2,\n",
              " 66,\n",
              " 2,\n",
              " 33,\n",
              " 4,\n",
              " 130,\n",
              " 12,\n",
              " 16,\n",
              " 38,\n",
              " 2,\n",
              " 5,\n",
              " 25,\n",
              " 124,\n",
              " 51,\n",
              " 36,\n",
              " 135,\n",
              " 48,\n",
              " 25,\n",
              " 2,\n",
              " 33,\n",
              " 6,\n",
              " 22,\n",
              " 12,\n",
              " 215,\n",
              " 28,\n",
              " 77,\n",
              " 52,\n",
              " 5,\n",
              " 14,\n",
              " 2,\n",
              " 16,\n",
              " 82,\n",
              " 2,\n",
              " 8,\n",
              " 4,\n",
              " 107,\n",
              " 117,\n",
              " 2,\n",
              " 15,\n",
              " 256,\n",
              " 4,\n",
              " 2,\n",
              " 7,\n",
              " 2,\n",
              " 5,\n",
              " 2,\n",
              " 36,\n",
              " 71,\n",
              " 43,\n",
              " 2,\n",
              " 2,\n",
              " 26,\n",
              " 2,\n",
              " 2,\n",
              " 46,\n",
              " 7,\n",
              " 4,\n",
              " 2,\n",
              " 2,\n",
              " 13,\n",
              " 104,\n",
              " 88,\n",
              " 4,\n",
              " 2,\n",
              " 15,\n",
              " 297,\n",
              " 98,\n",
              " 32,\n",
              " 2,\n",
              " 56,\n",
              " 26,\n",
              " 141,\n",
              " 6,\n",
              " 194,\n",
              " 2,\n",
              " 18,\n",
              " 4,\n",
              " 226,\n",
              " 22,\n",
              " 21,\n",
              " 134,\n",
              " 2,\n",
              " 26,\n",
              " 2,\n",
              " 5,\n",
              " 144,\n",
              " 30,\n",
              " 2,\n",
              " 18,\n",
              " 51,\n",
              " 36,\n",
              " 28,\n",
              " 224,\n",
              " 92,\n",
              " 25,\n",
              " 104,\n",
              " 4,\n",
              " 226,\n",
              " 65,\n",
              " 16,\n",
              " 38,\n",
              " 2,\n",
              " 88,\n",
              " 12,\n",
              " 16,\n",
              " 283,\n",
              " 5,\n",
              " 16,\n",
              " 2,\n",
              " 113,\n",
              " 103,\n",
              " 32,\n",
              " 15,\n",
              " 16,\n",
              " 2,\n",
              " 19,\n",
              " 178,\n",
              " 32]"
            ]
          },
          "metadata": {},
          "execution_count": 2
        }
      ]
    },
    {
      "cell_type": "code",
      "source": [
        "len(train_input[0])"
      ],
      "metadata": {
        "colab": {
          "base_uri": "https://localhost:8080/"
        },
        "id": "XngDr5wpX2Tf",
        "outputId": "7ebde658-cb55-418e-8c50-23decd735d25"
      },
      "execution_count": 3,
      "outputs": [
        {
          "output_type": "execute_result",
          "data": {
            "text/plain": [
              "218"
            ]
          },
          "metadata": {},
          "execution_count": 3
        }
      ]
    },
    {
      "cell_type": "code",
      "source": [
        "train_target[:20]"
      ],
      "metadata": {
        "colab": {
          "base_uri": "https://localhost:8080/"
        },
        "id": "fWZnw0qJXAmX",
        "outputId": "f94e8bc0-2361-41c7-8264-7f1d7a4a1824"
      },
      "execution_count": 4,
      "outputs": [
        {
          "output_type": "execute_result",
          "data": {
            "text/plain": [
              "array([1, 0, 0, 1, 0, 0, 1, 0, 1, 0, 1, 0, 0, 0, 0, 0, 1, 1, 0, 1])"
            ]
          },
          "metadata": {},
          "execution_count": 4
        }
      ]
    },
    {
      "cell_type": "code",
      "source": [
        "from sklearn.model_selection import train_test_split\n",
        "train_input, val_input, train_target, val_target = train_test_split(train_input, train_target, test_size=0.2, random_state=42)\n",
        "\n",
        "import numpy as np\n",
        "lengths = np.array([len(x) for x in train_input])\n",
        "print(np.mean(lengths), np.median(lengths))"
      ],
      "metadata": {
        "colab": {
          "base_uri": "https://localhost:8080/"
        },
        "id": "2UoJ92rpXIRI",
        "outputId": "7b7f48e2-bd77-46cf-8a1d-352cf2a2a2bf"
      },
      "execution_count": 5,
      "outputs": [
        {
          "output_type": "stream",
          "name": "stdout",
          "text": [
            "239.00925 178.0\n"
          ]
        }
      ]
    },
    {
      "cell_type": "markdown",
      "source": [
        "-> 평균과 중간값에 차이가 있는 것을 보아 편향된 데이터임을 추측할 수 있음"
      ],
      "metadata": {
        "id": "7dQ6wCobYkfs"
      }
    },
    {
      "cell_type": "code",
      "source": [
        "import matplotlib.pyplot as plt\n",
        "plt.hist(lengths)\n",
        "plt.xlabel('length')\n",
        "plt.ylabel('frequency')\n",
        "plt.show()"
      ],
      "metadata": {
        "colab": {
          "base_uri": "https://localhost:8080/",
          "height": 449
        },
        "id": "Ifnf6N9pYZt6",
        "outputId": "0dfe92f9-0ee8-40ce-d4d9-270666f2faff"
      },
      "execution_count": 6,
      "outputs": [
        {
          "output_type": "display_data",
          "data": {
            "text/plain": [
              "<Figure size 640x480 with 1 Axes>"
            ],
            "image/png": "[encoded data removed]"
          },
          "metadata": {}
        }
      ]
    },
    {
      "cell_type": "code",
      "source": [
        "from tensorflow.keras.preprocessing.sequence import pad_sequences\n",
        "train_seq = pad_sequences(train_input, maxlen=100)"
      ],
      "metadata": {
        "id": "zGo_LTYzYf8A"
      },
      "execution_count": 7,
      "outputs": []
    },
    {
      "cell_type": "code",
      "source": [
        "train_seq.shape"
      ],
      "metadata": {
        "colab": {
          "base_uri": "https://localhost:8080/"
        },
        "id": "qejCs1MHaZ7c",
        "outputId": "ba8ce3ef-d205-4fa5-e2ec-23db78c45010"
      },
      "execution_count": 8,
      "outputs": [
        {
          "output_type": "execute_result",
          "data": {
            "text/plain": [
              "(20000, 100)"
            ]
          },
          "metadata": {},
          "execution_count": 8
        }
      ]
    },
    {
      "cell_type": "code",
      "source": [
        "train_seq[0]"
      ],
      "metadata": {
        "colab": {
          "base_uri": "https://localhost:8080/"
        },
        "id": "1IAI1l_6acLy",
        "outputId": "37cb978b-3888-4c82-e4db-887b3d66c3ea"
      },
      "execution_count": 9,
      "outputs": [
        {
          "output_type": "execute_result",
          "data": {
            "text/plain": [
              "array([ 10,   4,  20,   9,   2,   2,   2,   5,  45,   6,   2,   2,  33,\n",
              "       269,   8,   2, 142,   2,   5,   2,  17,  73,  17, 204,   5,   2,\n",
              "        19,  55,   2,   2,  92,  66, 104,  14,  20,  93,  76,   2, 151,\n",
              "        33,   4,  58,  12, 188,   2, 151,  12, 215,  69, 224, 142,  73,\n",
              "       237,   6,   2,   7,   2,   2, 188,   2, 103,  14,  31,  10,  10,\n",
              "         2,   7,   2,   5,   2,  80,  91,   2,  30,   2,  34,  14,  20,\n",
              "       151,  50,  26, 131,  49,   2,  84,  46,  50,  37,  80,  79,   6,\n",
              "         2,  46,   7,  14,  20,  10,  10,   2, 158], dtype=int32)"
            ]
          },
          "metadata": {},
          "execution_count": 9
        }
      ]
    },
    {
      "cell_type": "code",
      "source": [
        "train_input[0][-10:]"
      ],
      "metadata": {
        "colab": {
          "base_uri": "https://localhost:8080/"
        },
        "id": "IgeXNMHXahZ2",
        "outputId": "50f27f91-3ee9-425f-86a9-a925aae0728d"
      },
      "execution_count": 11,
      "outputs": [
        {
          "output_type": "execute_result",
          "data": {
            "text/plain": [
              "[6, 2, 46, 7, 14, 20, 10, 10, 2, 158]"
            ]
          },
          "metadata": {},
          "execution_count": 11
        }
      ]
    },
    {
      "cell_type": "code",
      "source": [
        "train_seq[5]"
      ],
      "metadata": {
        "colab": {
          "base_uri": "https://localhost:8080/"
        },
        "id": "ZJ8yimR2ajXr",
        "outputId": "58d2fd81-af74-4bdb-d472-17bd21bf0dea"
      },
      "execution_count": 12,
      "outputs": [
        {
          "output_type": "execute_result",
          "data": {
            "text/plain": [
              "array([  0,   0,   0,   0,   1,   2, 195,  19,  49,   2,   2, 190,   4,\n",
              "         2,   2,   2, 183,  10,  10,  13,  82,  79,   4,   2,  36,  71,\n",
              "       269,   8,   2,  25,  19,  49,   7,   4,   2,   2,   2,   2,   2,\n",
              "        10,  10,  48,  25,  40,   2,  11,   2,   2,  40,   2,   2,   5,\n",
              "         4,   2,   2,  95,  14, 238,  56, 129,   2,  10,  10,  21,   2,\n",
              "        94,   2,   2,   2,   2,  11, 190,  24,   2,   2,   7,  94, 205,\n",
              "         2,  10,  10,  87,   2,  34,  49,   2,   7,   2,   2,   2,   2,\n",
              "         2, 290,   2,  46,  48,  64,  18,   4,   2], dtype=int32)"
            ]
          },
          "metadata": {},
          "execution_count": 12
        }
      ]
    },
    {
      "cell_type": "code",
      "source": [
        "val_seq = pad_sequences(val_input, maxlen=100)"
      ],
      "metadata": {
        "id": "AmxsnO5BavQn"
      },
      "execution_count": 13,
      "outputs": []
    },
    {
      "cell_type": "code",
      "source": [
        "#순환 신경망 모델 만들기\n",
        "from tensorflow import keras\n",
        "model = keras.Sequential()\n",
        "model.add(keras.layers.SimpleRNN(8, input_shape=(100, 300)))  #100개의 차원이 300토큰으로\n",
        "model.add(keras.layers.Dense(1, activation='sigmoid'))"
      ],
      "metadata": {
        "id": "z6ODwClZa0Ge"
      },
      "execution_count": 14,
      "outputs": []
    },
    {
      "cell_type": "code",
      "source": [
        "train_oh = keras.utils.to_categorical(train_seq)\n",
        "val_oh = keras.utils.to_categorical(val_seq)"
      ],
      "metadata": {
        "id": "FMXhk6f6cuKp"
      },
      "execution_count": 15,
      "outputs": []
    },
    {
      "cell_type": "code",
      "source": [
        "train_oh.shape"
      ],
      "metadata": {
        "colab": {
          "base_uri": "https://localhost:8080/"
        },
        "id": "fQfLrjI0c0wq",
        "outputId": "0b25a509-6152-4645-a8f0-514c1acbbc3f"
      },
      "execution_count": 16,
      "outputs": [
        {
          "output_type": "execute_result",
          "data": {
            "text/plain": [
              "(20000, 100, 300)"
            ]
          },
          "metadata": {},
          "execution_count": 16
        }
      ]
    },
    {
      "cell_type": "code",
      "source": [
        "train_oh[0][0][:12]"
      ],
      "metadata": {
        "colab": {
          "base_uri": "https://localhost:8080/"
        },
        "id": "QcAZdnPsc2ou",
        "outputId": "6c66cd0b-639b-414b-9723-f198c9c197de"
      },
      "execution_count": 17,
      "outputs": [
        {
          "output_type": "execute_result",
          "data": {
            "text/plain": [
              "array([0., 0., 0., 0., 0., 0., 0., 0., 0., 0., 1., 0.], dtype=float32)"
            ]
          },
          "metadata": {},
          "execution_count": 17
        }
      ]
    },
    {
      "cell_type": "code",
      "source": [
        "np.sum(train_oh[0][0])"
      ],
      "metadata": {
        "colab": {
          "base_uri": "https://localhost:8080/"
        },
        "id": "scEPAKnsc7cg",
        "outputId": "b2d2727a-ba11-4191-f111-41329d31a4aa"
      },
      "execution_count": 18,
      "outputs": [
        {
          "output_type": "execute_result",
          "data": {
            "text/plain": [
              "1.0"
            ]
          },
          "metadata": {},
          "execution_count": 18
        }
      ]
    },
    {
      "cell_type": "code",
      "source": [
        "model.summary()"
      ],
      "metadata": {
        "colab": {
          "base_uri": "https://localhost:8080/"
        },
        "id": "pry0_uBNdByz",
        "outputId": "e31173ba-d9ef-4c82-9fb3-451acef9998e"
      },
      "execution_count": 19,
      "outputs": [
        {
          "output_type": "stream",
          "name": "stdout",
          "text": [
            "Model: \"sequential\"\n",
            "_________________________________________________________________\n",
            " Layer (type)                Output Shape              Param #   \n",
            "=================================================================\n",
            " simple_rnn (SimpleRNN)      (None, 8)                 2472      \n",
            "                                                                 \n",
            " dense (Dense)               (None, 1)                 9         \n",
            "                                                                 \n",
            "=================================================================\n",
            "Total params: 2481 (9.69 KB)\n",
            "Trainable params: 2481 (9.69 KB)\n",
            "Non-trainable params: 0 (0.00 Byte)\n",
            "_________________________________________________________________\n"
          ]
        }
      ]
    },
    {
      "cell_type": "code",
      "source": [
        "rmsprop = keras.optimizers.RMSprop(learning_rate=1e-4)\n",
        "model.compile(optimizer=rmsprop, loss='binary_crossentropy', metrics=['accuracy'])\n",
        "checkpoint_cb = keras.callbacks.ModelCheckpoint('best-simplernn-model.h5', save_best_only=True)\n",
        "early_stopping_cb = keras.callbacks.EarlyStopping(patience=3, restore_best_weights=True)\n",
        "history = model.fit(train_oh, train_target, epochs=100, batch_size=64, validation_data=(val_oh, val_target), callbacks=[checkpoint_cb, early_stopping_cb])"
      ],
      "metadata": {
        "colab": {
          "base_uri": "https://localhost:8080/"
        },
        "id": "-SRkuJBwdkPE",
        "outputId": "b757fa1d-8b59-4f4b-d2fd-8a7bb37538e3"
      },
      "execution_count": 20,
      "outputs": [
        {
          "output_type": "stream",
          "name": "stdout",
          "text": [
            "Epoch 1/100\n",
            "313/313 [==============================] - 19s 57ms/step - loss: 0.6999 - accuracy: 0.5031 - val_loss: 0.6970 - val_accuracy: 0.5166\n",
            "Epoch 2/100\n",
            "  6/313 [..............................] - ETA: 7s - loss: 0.6944 - accuracy: 0.5208"
          ]
        },
        {
          "output_type": "stream",
          "name": "stderr",
          "text": [
            "/usr/local/lib/python3.10/dist-packages/keras/src/engine/training.py:3103: UserWarning: You are saving your model as an HDF5 file via `model.save()`. This file format is considered legacy. We recommend using instead the native Keras format, e.g. `model.save('my_model.keras')`.\n",
            "  saving_api.save_model(\n"
          ]
        },
        {
          "output_type": "stream",
          "name": "stdout",
          "text": [
            "313/313 [==============================] - 11s 36ms/step - loss: 0.6958 - accuracy: 0.5116 - val_loss: 0.6940 - val_accuracy: 0.5224\n",
            "Epoch 3/100\n",
            "313/313 [==============================] - 10s 33ms/step - loss: 0.6925 - accuracy: 0.5210 - val_loss: 0.6913 - val_accuracy: 0.5294\n",
            "Epoch 4/100\n",
            "313/313 [==============================] - 14s 44ms/step - loss: 0.6896 - accuracy: 0.5322 - val_loss: 0.6888 - val_accuracy: 0.5382\n",
            "Epoch 5/100\n",
            "313/313 [==============================] - 15s 47ms/step - loss: 0.6867 - accuracy: 0.5454 - val_loss: 0.6860 - val_accuracy: 0.5466\n",
            "Epoch 6/100\n",
            "313/313 [==============================] - 14s 43ms/step - loss: 0.6830 - accuracy: 0.5588 - val_loss: 0.6818 - val_accuracy: 0.5544\n",
            "Epoch 7/100\n",
            "313/313 [==============================] - 12s 39ms/step - loss: 0.6770 - accuracy: 0.5774 - val_loss: 0.6723 - val_accuracy: 0.5810\n",
            "Epoch 8/100\n",
            "313/313 [==============================] - 12s 39ms/step - loss: 0.6540 - accuracy: 0.6180 - val_loss: 0.6405 - val_accuracy: 0.6380\n",
            "Epoch 9/100\n",
            "313/313 [==============================] - 12s 39ms/step - loss: 0.6272 - accuracy: 0.6538 - val_loss: 0.6257 - val_accuracy: 0.6538\n",
            "Epoch 10/100\n",
            "313/313 [==============================] - 12s 38ms/step - loss: 0.6110 - accuracy: 0.6723 - val_loss: 0.6086 - val_accuracy: 0.6746\n",
            "Epoch 11/100\n",
            "313/313 [==============================] - 10s 31ms/step - loss: 0.5934 - accuracy: 0.6948 - val_loss: 0.5963 - val_accuracy: 0.6878\n",
            "Epoch 12/100\n",
            "313/313 [==============================] - 11s 36ms/step - loss: 0.5831 - accuracy: 0.7041 - val_loss: 0.5875 - val_accuracy: 0.6990\n",
            "Epoch 13/100\n",
            "313/313 [==============================] - 12s 39ms/step - loss: 0.5726 - accuracy: 0.7135 - val_loss: 0.5780 - val_accuracy: 0.7028\n",
            "Epoch 14/100\n",
            "313/313 [==============================] - 12s 38ms/step - loss: 0.5646 - accuracy: 0.7182 - val_loss: 0.5731 - val_accuracy: 0.7048\n",
            "Epoch 15/100\n",
            "313/313 [==============================] - 12s 38ms/step - loss: 0.5577 - accuracy: 0.7251 - val_loss: 0.5672 - val_accuracy: 0.7114\n",
            "Epoch 16/100\n",
            "313/313 [==============================] - 11s 34ms/step - loss: 0.5520 - accuracy: 0.7304 - val_loss: 0.5643 - val_accuracy: 0.7178\n",
            "Epoch 17/100\n",
            "313/313 [==============================] - 11s 35ms/step - loss: 0.5469 - accuracy: 0.7352 - val_loss: 0.5596 - val_accuracy: 0.7232\n",
            "Epoch 18/100\n",
            "313/313 [==============================] - 12s 37ms/step - loss: 0.5417 - accuracy: 0.7389 - val_loss: 0.5559 - val_accuracy: 0.7178\n",
            "Epoch 19/100\n",
            "313/313 [==============================] - 13s 40ms/step - loss: 0.5376 - accuracy: 0.7416 - val_loss: 0.5520 - val_accuracy: 0.7230\n",
            "Epoch 20/100\n",
            "313/313 [==============================] - 12s 37ms/step - loss: 0.5329 - accuracy: 0.7443 - val_loss: 0.5462 - val_accuracy: 0.7300\n",
            "Epoch 21/100\n",
            "313/313 [==============================] - 12s 37ms/step - loss: 0.5295 - accuracy: 0.7476 - val_loss: 0.5434 - val_accuracy: 0.7318\n",
            "Epoch 22/100\n",
            "313/313 [==============================] - 10s 32ms/step - loss: 0.5263 - accuracy: 0.7490 - val_loss: 0.5433 - val_accuracy: 0.7294\n",
            "Epoch 23/100\n",
            "313/313 [==============================] - 12s 38ms/step - loss: 0.5238 - accuracy: 0.7504 - val_loss: 0.5437 - val_accuracy: 0.7294\n",
            "Epoch 24/100\n",
            "313/313 [==============================] - 12s 40ms/step - loss: 0.5210 - accuracy: 0.7526 - val_loss: 0.5350 - val_accuracy: 0.7350\n",
            "Epoch 25/100\n",
            "313/313 [==============================] - 12s 38ms/step - loss: 0.5186 - accuracy: 0.7552 - val_loss: 0.5341 - val_accuracy: 0.7358\n",
            "Epoch 26/100\n",
            "313/313 [==============================] - 13s 40ms/step - loss: 0.5172 - accuracy: 0.7563 - val_loss: 0.5334 - val_accuracy: 0.7374\n",
            "Epoch 27/100\n",
            "313/313 [==============================] - 13s 40ms/step - loss: 0.5148 - accuracy: 0.7581 - val_loss: 0.5299 - val_accuracy: 0.7406\n",
            "Epoch 28/100\n",
            "313/313 [==============================] - 10s 32ms/step - loss: 0.5135 - accuracy: 0.7581 - val_loss: 0.5282 - val_accuracy: 0.7448\n",
            "Epoch 29/100\n",
            "313/313 [==============================] - 11s 36ms/step - loss: 0.5110 - accuracy: 0.7599 - val_loss: 0.5276 - val_accuracy: 0.7418\n",
            "Epoch 30/100\n",
            "313/313 [==============================] - 12s 40ms/step - loss: 0.5099 - accuracy: 0.7602 - val_loss: 0.5283 - val_accuracy: 0.7412\n",
            "Epoch 31/100\n",
            "313/313 [==============================] - 12s 38ms/step - loss: 0.5077 - accuracy: 0.7618 - val_loss: 0.5248 - val_accuracy: 0.7432\n",
            "Epoch 32/100\n",
            "313/313 [==============================] - 13s 43ms/step - loss: 0.5069 - accuracy: 0.7635 - val_loss: 0.5231 - val_accuracy: 0.7490\n",
            "Epoch 33/100\n",
            "313/313 [==============================] - 11s 34ms/step - loss: 0.5055 - accuracy: 0.7646 - val_loss: 0.5233 - val_accuracy: 0.7486\n",
            "Epoch 34/100\n",
            "313/313 [==============================] - 12s 37ms/step - loss: 0.5046 - accuracy: 0.7642 - val_loss: 0.5214 - val_accuracy: 0.7464\n",
            "Epoch 35/100\n",
            "313/313 [==============================] - 12s 38ms/step - loss: 0.5029 - accuracy: 0.7643 - val_loss: 0.5212 - val_accuracy: 0.7454\n",
            "Epoch 36/100\n",
            "313/313 [==============================] - 12s 38ms/step - loss: 0.5020 - accuracy: 0.7667 - val_loss: 0.5201 - val_accuracy: 0.7476\n",
            "Epoch 37/100\n",
            "313/313 [==============================] - 12s 37ms/step - loss: 0.5015 - accuracy: 0.7652 - val_loss: 0.5196 - val_accuracy: 0.7518\n",
            "Epoch 38/100\n",
            "313/313 [==============================] - 12s 37ms/step - loss: 0.5007 - accuracy: 0.7670 - val_loss: 0.5206 - val_accuracy: 0.7510\n",
            "Epoch 39/100\n",
            "313/313 [==============================] - 11s 34ms/step - loss: 0.4992 - accuracy: 0.7691 - val_loss: 0.5214 - val_accuracy: 0.7418\n",
            "Epoch 40/100\n",
            "313/313 [==============================] - 12s 37ms/step - loss: 0.4985 - accuracy: 0.7685 - val_loss: 0.5188 - val_accuracy: 0.7530\n",
            "Epoch 41/100\n",
            "313/313 [==============================] - 12s 37ms/step - loss: 0.4975 - accuracy: 0.7691 - val_loss: 0.5182 - val_accuracy: 0.7518\n",
            "Epoch 42/100\n",
            "313/313 [==============================] - 12s 38ms/step - loss: 0.4970 - accuracy: 0.7699 - val_loss: 0.5190 - val_accuracy: 0.7500\n",
            "Epoch 43/100\n",
            "313/313 [==============================] - 12s 38ms/step - loss: 0.4958 - accuracy: 0.7710 - val_loss: 0.5163 - val_accuracy: 0.7514\n",
            "Epoch 44/100\n",
            "313/313 [==============================] - 12s 37ms/step - loss: 0.4954 - accuracy: 0.7698 - val_loss: 0.5148 - val_accuracy: 0.7500\n",
            "Epoch 45/100\n",
            "313/313 [==============================] - 10s 33ms/step - loss: 0.4945 - accuracy: 0.7720 - val_loss: 0.5137 - val_accuracy: 0.7538\n",
            "Epoch 46/100\n",
            "313/313 [==============================] - 12s 38ms/step - loss: 0.4934 - accuracy: 0.7709 - val_loss: 0.5132 - val_accuracy: 0.7540\n",
            "Epoch 47/100\n",
            "313/313 [==============================] - 12s 39ms/step - loss: 0.4929 - accuracy: 0.7735 - val_loss: 0.5147 - val_accuracy: 0.7528\n",
            "Epoch 48/100\n",
            "313/313 [==============================] - 12s 37ms/step - loss: 0.4925 - accuracy: 0.7722 - val_loss: 0.5147 - val_accuracy: 0.7526\n",
            "Epoch 49/100\n",
            "313/313 [==============================] - 12s 38ms/step - loss: 0.4915 - accuracy: 0.7733 - val_loss: 0.5160 - val_accuracy: 0.7522\n"
          ]
        }
      ]
    },
    {
      "cell_type": "code",
      "source": [
        "plt.plot(history.history['loss'])\n",
        "plt.plot(history.history['val_loss'])\n",
        "plt.xlabel('epoch')\n",
        "plt.ylabel('loss')\n",
        "plt.legend(['train', 'val'])\n",
        "plt.show()"
      ],
      "metadata": {
        "colab": {
          "base_uri": "https://localhost:8080/",
          "height": 449
        },
        "id": "bNp4V8-sd-1e",
        "outputId": "afbe8fdc-b90b-4975-b76a-56597cb18b11"
      },
      "execution_count": 21,
      "outputs": [
        {
          "output_type": "display_data",
          "data": {
            "text/plain": [
              "<Figure size 640x480 with 1 Axes>"
            ],
            "image/png": "[encoded data removed]"
          },
          "metadata": {}
        }
      ]
    },
    {
      "cell_type": "code",
      "source": [
        "model2 = keras.Sequential()\n",
        "model2.add(keras.layers.Embedding(300, 16, input_length=100))\n",
        "model2.add(keras.layers.SimpleRNN(8))\n",
        "model2.add(keras.layers.Dense(1, activation='sigmoid'))"
      ],
      "metadata": {
        "id": "u7fCq0NbhCt6"
      },
      "execution_count": 22,
      "outputs": []
    },
    {
      "cell_type": "code",
      "source": [
        "model2.summary()"
      ],
      "metadata": {
        "colab": {
          "base_uri": "https://localhost:8080/"
        },
        "id": "jsrteoMshNEE",
        "outputId": "57d3238e-3770-49d6-c305-1f3a71c41911"
      },
      "execution_count": 23,
      "outputs": [
        {
          "output_type": "stream",
          "name": "stdout",
          "text": [
            "Model: \"sequential_1\"\n",
            "_________________________________________________________________\n",
            " Layer (type)                Output Shape              Param #   \n",
            "=================================================================\n",
            " embedding (Embedding)       (None, 100, 16)           4800      \n",
            "                                                                 \n",
            " simple_rnn_1 (SimpleRNN)    (None, 8)                 200       \n",
            "                                                                 \n",
            " dense_1 (Dense)             (None, 1)                 9         \n",
            "                                                                 \n",
            "=================================================================\n",
            "Total params: 5009 (19.57 KB)\n",
            "Trainable params: 5009 (19.57 KB)\n",
            "Non-trainable params: 0 (0.00 Byte)\n",
            "_________________________________________________________________\n"
          ]
        }
      ]
    },
    {
      "cell_type": "code",
      "source": [
        "rmsprop = keras.optimizers.RMSprop(learning_rate=1e-4)\n",
        "model2.compile(optimizer=rmsprop, loss='binary_crossentropy', metrics=['accuracy'])\n",
        "checkpoint_cb = keras.callbacks.ModelCheckpoint('best-embedding-model.h5', save_best_only=True)\n",
        "early_stopping_cb = keras.callbacks.EarlyStopping(patience=3, restore_best_weights=True)\n",
        "history = model2.fit(train_seq, train_target, epochs=100, batch_size=64, validation_data=(val_seq, val_target), callbacks=[checkpoint_cb, early_stopping_cb])"
      ],
      "metadata": {
        "colab": {
          "base_uri": "https://localhost:8080/"
        },
        "id": "UeuLNOY5hPeu",
        "outputId": "bc9ecd95-6ceb-4c71-e98b-5c2c33881033"
      },
      "execution_count": 24,
      "outputs": [
        {
          "output_type": "stream",
          "name": "stdout",
          "text": [
            "Epoch 1/100\n",
            "313/313 [==============================] - 10s 26ms/step - loss: 0.6958 - accuracy: 0.4954 - val_loss: 0.6931 - val_accuracy: 0.5080\n",
            "Epoch 2/100\n",
            "  3/313 [..............................] - ETA: 12s - loss: 0.7010 - accuracy: 0.4323"
          ]
        },
        {
          "output_type": "stream",
          "name": "stderr",
          "text": [
            "/usr/local/lib/python3.10/dist-packages/keras/src/engine/training.py:3103: UserWarning: You are saving your model as an HDF5 file via `model.save()`. This file format is considered legacy. We recommend using instead the native Keras format, e.g. `model.save('my_model.keras')`.\n",
            "  saving_api.save_model(\n"
          ]
        },
        {
          "output_type": "stream",
          "name": "stdout",
          "text": [
            "313/313 [==============================] - 9s 30ms/step - loss: 0.6926 - accuracy: 0.5135 - val_loss: 0.6920 - val_accuracy: 0.5170\n",
            "Epoch 3/100\n",
            "313/313 [==============================] - 10s 33ms/step - loss: 0.6908 - accuracy: 0.5307 - val_loss: 0.6912 - val_accuracy: 0.5212\n",
            "Epoch 4/100\n",
            "313/313 [==============================] - 8s 25ms/step - loss: 0.6888 - accuracy: 0.5431 - val_loss: 0.6902 - val_accuracy: 0.5250\n",
            "Epoch 5/100\n",
            "313/313 [==============================] - 9s 30ms/step - loss: 0.6848 - accuracy: 0.5644 - val_loss: 0.6827 - val_accuracy: 0.5858\n",
            "Epoch 6/100\n",
            "313/313 [==============================] - 10s 30ms/step - loss: 0.6709 - accuracy: 0.6316 - val_loss: 0.6675 - val_accuracy: 0.6378\n",
            "Epoch 7/100\n",
            "313/313 [==============================] - 8s 25ms/step - loss: 0.6546 - accuracy: 0.6679 - val_loss: 0.6527 - val_accuracy: 0.6672\n",
            "Epoch 8/100\n",
            "313/313 [==============================] - 10s 32ms/step - loss: 0.6375 - accuracy: 0.6973 - val_loss: 0.6373 - val_accuracy: 0.6920\n",
            "Epoch 9/100\n",
            "313/313 [==============================] - 10s 31ms/step - loss: 0.6213 - accuracy: 0.7103 - val_loss: 0.6215 - val_accuracy: 0.7088\n",
            "Epoch 10/100\n",
            "313/313 [==============================] - 8s 27ms/step - loss: 0.6061 - accuracy: 0.7250 - val_loss: 0.6079 - val_accuracy: 0.7060\n",
            "Epoch 11/100\n",
            "313/313 [==============================] - 10s 32ms/step - loss: 0.5922 - accuracy: 0.7315 - val_loss: 0.5996 - val_accuracy: 0.7180\n",
            "Epoch 12/100\n",
            "313/313 [==============================] - 9s 29ms/step - loss: 0.5796 - accuracy: 0.7386 - val_loss: 0.5849 - val_accuracy: 0.7268\n",
            "Epoch 13/100\n",
            "313/313 [==============================] - 8s 26ms/step - loss: 0.5682 - accuracy: 0.7443 - val_loss: 0.5742 - val_accuracy: 0.7376\n",
            "Epoch 14/100\n",
            "313/313 [==============================] - 10s 31ms/step - loss: 0.5575 - accuracy: 0.7485 - val_loss: 0.5677 - val_accuracy: 0.7306\n",
            "Epoch 15/100\n",
            "313/313 [==============================] - 10s 32ms/step - loss: 0.5479 - accuracy: 0.7520 - val_loss: 0.5589 - val_accuracy: 0.7400\n",
            "Epoch 16/100\n",
            "313/313 [==============================] - 8s 27ms/step - loss: 0.5390 - accuracy: 0.7567 - val_loss: 0.5525 - val_accuracy: 0.7368\n",
            "Epoch 17/100\n",
            "313/313 [==============================] - 10s 32ms/step - loss: 0.5312 - accuracy: 0.7613 - val_loss: 0.5457 - val_accuracy: 0.7420\n",
            "Epoch 18/100\n",
            "313/313 [==============================] - 10s 32ms/step - loss: 0.5239 - accuracy: 0.7629 - val_loss: 0.5401 - val_accuracy: 0.7400\n",
            "Epoch 19/100\n",
            "313/313 [==============================] - 8s 25ms/step - loss: 0.5176 - accuracy: 0.7648 - val_loss: 0.5345 - val_accuracy: 0.7476\n",
            "Epoch 20/100\n",
            "313/313 [==============================] - 9s 29ms/step - loss: 0.5115 - accuracy: 0.7674 - val_loss: 0.5309 - val_accuracy: 0.7460\n",
            "Epoch 21/100\n",
            "313/313 [==============================] - 9s 29ms/step - loss: 0.5064 - accuracy: 0.7703 - val_loss: 0.5290 - val_accuracy: 0.7424\n",
            "Epoch 22/100\n",
            "313/313 [==============================] - 8s 24ms/step - loss: 0.5024 - accuracy: 0.7721 - val_loss: 0.5313 - val_accuracy: 0.7432\n",
            "Epoch 23/100\n",
            "313/313 [==============================] - 10s 32ms/step - loss: 0.4983 - accuracy: 0.7711 - val_loss: 0.5224 - val_accuracy: 0.7466\n",
            "Epoch 24/100\n",
            "313/313 [==============================] - 9s 30ms/step - loss: 0.4944 - accuracy: 0.7747 - val_loss: 0.5212 - val_accuracy: 0.7454\n",
            "Epoch 25/100\n",
            "313/313 [==============================] - 8s 26ms/step - loss: 0.4910 - accuracy: 0.7732 - val_loss: 0.5195 - val_accuracy: 0.7484\n",
            "Epoch 26/100\n",
            "313/313 [==============================] - 10s 31ms/step - loss: 0.4880 - accuracy: 0.7775 - val_loss: 0.5186 - val_accuracy: 0.7504\n",
            "Epoch 27/100\n",
            "313/313 [==============================] - 8s 27ms/step - loss: 0.4855 - accuracy: 0.7771 - val_loss: 0.5175 - val_accuracy: 0.7448\n",
            "Epoch 28/100\n",
            "313/313 [==============================] - 9s 29ms/step - loss: 0.4829 - accuracy: 0.7778 - val_loss: 0.5161 - val_accuracy: 0.7446\n",
            "Epoch 29/100\n",
            "313/313 [==============================] - 10s 31ms/step - loss: 0.4806 - accuracy: 0.7793 - val_loss: 0.5156 - val_accuracy: 0.7470\n",
            "Epoch 30/100\n",
            "313/313 [==============================] - 8s 26ms/step - loss: 0.4791 - accuracy: 0.7786 - val_loss: 0.5150 - val_accuracy: 0.7474\n",
            "Epoch 31/100\n",
            "313/313 [==============================] - 10s 31ms/step - loss: 0.4769 - accuracy: 0.7812 - val_loss: 0.5147 - val_accuracy: 0.7474\n",
            "Epoch 32/100\n",
            "313/313 [==============================] - 9s 30ms/step - loss: 0.4748 - accuracy: 0.7813 - val_loss: 0.5156 - val_accuracy: 0.7486\n",
            "Epoch 33/100\n",
            "313/313 [==============================] - 8s 25ms/step - loss: 0.4733 - accuracy: 0.7825 - val_loss: 0.5163 - val_accuracy: 0.7478\n",
            "Epoch 34/100\n",
            "313/313 [==============================] - 10s 31ms/step - loss: 0.4724 - accuracy: 0.7824 - val_loss: 0.5136 - val_accuracy: 0.7446\n",
            "Epoch 35/100\n",
            "313/313 [==============================] - 9s 30ms/step - loss: 0.4707 - accuracy: 0.7838 - val_loss: 0.5140 - val_accuracy: 0.7456\n",
            "Epoch 36/100\n",
            "313/313 [==============================] - 8s 25ms/step - loss: 0.4697 - accuracy: 0.7835 - val_loss: 0.5127 - val_accuracy: 0.7460\n",
            "Epoch 37/100\n",
            "313/313 [==============================] - 10s 31ms/step - loss: 0.4681 - accuracy: 0.7840 - val_loss: 0.5151 - val_accuracy: 0.7458\n",
            "Epoch 38/100\n",
            "313/313 [==============================] - 10s 31ms/step - loss: 0.4670 - accuracy: 0.7865 - val_loss: 0.5129 - val_accuracy: 0.7468\n",
            "Epoch 39/100\n",
            "313/313 [==============================] - 8s 25ms/step - loss: 0.4660 - accuracy: 0.7852 - val_loss: 0.5146 - val_accuracy: 0.7460\n"
          ]
        }
      ]
    },
    {
      "cell_type": "code",
      "source": [],
      "metadata": {
        "id": "YNR6b0ElhbiQ"
      },
      "execution_count": null,
      "outputs": []
    }
  ]
}